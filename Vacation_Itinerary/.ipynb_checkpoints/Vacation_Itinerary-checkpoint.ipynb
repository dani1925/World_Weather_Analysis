{
 "cells": [
  {
   "cell_type": "markdown",
   "metadata": {},
   "source": [
    "## Deliverable 3. Create a Travel Itinerary Map."
   ]
  },
  {
   "cell_type": "code",
   "execution_count": 208,
   "metadata": {},
   "outputs": [],
   "source": [
    "# Dependencies and Setup\n",
    "import pandas as pd\n",
    "import requests\n",
    "import gmaps\n",
    "\n",
    "# Import API key\n",
    "from config1 import g_key\n",
    "\n",
    "# Configure gmaps\n",
    "gmaps.configure(api_key=g_key)"
   ]
  },
  {
   "cell_type": "code",
   "execution_count": 209,
   "metadata": {},
   "outputs": [
    {
     "data": {
      "text/html": [
       "<div>\n",
       "<style scoped>\n",
       "    .dataframe tbody tr th:only-of-type {\n",
       "        vertical-align: middle;\n",
       "    }\n",
       "\n",
       "    .dataframe tbody tr th {\n",
       "        vertical-align: top;\n",
       "    }\n",
       "\n",
       "    .dataframe thead th {\n",
       "        text-align: right;\n",
       "    }\n",
       "</style>\n",
       "<table border=\"1\" class=\"dataframe\">\n",
       "  <thead>\n",
       "    <tr style=\"text-align: right;\">\n",
       "      <th></th>\n",
       "      <th>City_ID</th>\n",
       "      <th>City_ID.1</th>\n",
       "      <th>City</th>\n",
       "      <th>Country</th>\n",
       "      <th>Lat</th>\n",
       "      <th>Long</th>\n",
       "      <th>Max temp</th>\n",
       "      <th>Humidity</th>\n",
       "      <th>Cloudness</th>\n",
       "      <th>Wind S</th>\n",
       "      <th>Current Description</th>\n",
       "      <th>Hotel Name</th>\n",
       "    </tr>\n",
       "  </thead>\n",
       "  <tbody>\n",
       "    <tr>\n",
       "      <th>0</th>\n",
       "      <td>0</td>\n",
       "      <td>0</td>\n",
       "      <td>Ngunguru</td>\n",
       "      <td>NZ</td>\n",
       "      <td>-35.6167</td>\n",
       "      <td>174.5000</td>\n",
       "      <td>58.15</td>\n",
       "      <td>78</td>\n",
       "      <td>100</td>\n",
       "      <td>2.80</td>\n",
       "      <td>light rain</td>\n",
       "      <td>Pacific Rendezvous Motel Resort</td>\n",
       "    </tr>\n",
       "    <tr>\n",
       "      <th>1</th>\n",
       "      <td>1</td>\n",
       "      <td>1</td>\n",
       "      <td>Cacapava Do Sul</td>\n",
       "      <td>BR</td>\n",
       "      <td>-30.5122</td>\n",
       "      <td>-53.4914</td>\n",
       "      <td>82.74</td>\n",
       "      <td>36</td>\n",
       "      <td>0</td>\n",
       "      <td>4.32</td>\n",
       "      <td>clear sky</td>\n",
       "      <td>Hotel Portal</td>\n",
       "    </tr>\n",
       "    <tr>\n",
       "      <th>2</th>\n",
       "      <td>2</td>\n",
       "      <td>2</td>\n",
       "      <td>Rikitea</td>\n",
       "      <td>PF</td>\n",
       "      <td>-23.1203</td>\n",
       "      <td>-134.9692</td>\n",
       "      <td>72.81</td>\n",
       "      <td>78</td>\n",
       "      <td>100</td>\n",
       "      <td>3.80</td>\n",
       "      <td>overcast clouds</td>\n",
       "      <td>People ThankYou</td>\n",
       "    </tr>\n",
       "    <tr>\n",
       "      <th>3</th>\n",
       "      <td>3</td>\n",
       "      <td>3</td>\n",
       "      <td>Atuona</td>\n",
       "      <td>PF</td>\n",
       "      <td>-9.8000</td>\n",
       "      <td>-139.0333</td>\n",
       "      <td>77.43</td>\n",
       "      <td>68</td>\n",
       "      <td>30</td>\n",
       "      <td>14.50</td>\n",
       "      <td>scattered clouds</td>\n",
       "      <td>Villa Enata</td>\n",
       "    </tr>\n",
       "    <tr>\n",
       "      <th>4</th>\n",
       "      <td>4</td>\n",
       "      <td>4</td>\n",
       "      <td>Sao Joao Da Barra</td>\n",
       "      <td>BR</td>\n",
       "      <td>-21.6403</td>\n",
       "      <td>-41.0511</td>\n",
       "      <td>84.29</td>\n",
       "      <td>79</td>\n",
       "      <td>73</td>\n",
       "      <td>13.29</td>\n",
       "      <td>broken clouds</td>\n",
       "      <td>Pousada Porto De Canoas</td>\n",
       "    </tr>\n",
       "  </tbody>\n",
       "</table>\n",
       "</div>"
      ],
      "text/plain": [
       "   City_ID  City_ID.1               City Country      Lat      Long  Max temp  \\\n",
       "0        0          0           Ngunguru      NZ -35.6167  174.5000     58.15   \n",
       "1        1          1    Cacapava Do Sul      BR -30.5122  -53.4914     82.74   \n",
       "2        2          2            Rikitea      PF -23.1203 -134.9692     72.81   \n",
       "3        3          3             Atuona      PF  -9.8000 -139.0333     77.43   \n",
       "4        4          4  Sao Joao Da Barra      BR -21.6403  -41.0511     84.29   \n",
       "\n",
       "   Humidity  Cloudness  Wind S Current Description  \\\n",
       "0        78        100    2.80          light rain   \n",
       "1        36          0    4.32           clear sky   \n",
       "2        78        100    3.80     overcast clouds   \n",
       "3        68         30   14.50    scattered clouds   \n",
       "4        79         73   13.29       broken clouds   \n",
       "\n",
       "                        Hotel Name  \n",
       "0  Pacific Rendezvous Motel Resort  \n",
       "1                     Hotel Portal  \n",
       "2                  People ThankYou  \n",
       "3                      Villa Enata  \n",
       "4          Pousada Porto De Canoas  "
      ]
     },
     "execution_count": 209,
     "metadata": {},
     "output_type": "execute_result"
    }
   ],
   "source": [
    "# 1. Read the WeatherPy_vacation.csv into a DataFrame.\n",
    "vacation_df = pd.read_csv(\"../Vacation Search/WeatherPy_vacations.csv\")\n",
    "vacation_df.head()"
   ]
  },
  {
   "cell_type": "code",
   "execution_count": 210,
   "metadata": {},
   "outputs": [],
   "source": [
    "# 2. Using the template add the city name, the country code, the weather description and maximum temperature for the city.\n",
    "info_box_template = \"\"\"\n",
    "<dl>\n",
    "<dt>Hotel Name</dt><dd>{Hotel Name}</dd>\n",
    "<dt>City Name</dt><dd>{City}</dd>\n",
    "<dt>Country</dt><dd>{Country}</dd>\n",
    "<dt>Max Temp</dt><dd>{Max temp} °F</dd>\n",
    "</dl>\n",
    "\"\"\"\n",
    "\n",
    "# 3a. Get the data from each row and add it to the formatting template and store the data in a list.\n",
    "hotel_info = [info_box_template.format(**row) for index, row in vacation_df.iterrows()]\n",
    "\n",
    "# 3b. Get the latitude and longitude from each row and store in a new DataFrame.\n",
    "locations = vacation_df[[\"Lat\", \"Long\"]]"
   ]
  },
  {
   "cell_type": "code",
   "execution_count": 207,
   "metadata": {},
   "outputs": [
    {
     "data": {
      "application/vnd.jupyter.widget-view+json": {
       "model_id": "3e7c055f231b498e8d07b68e243438c2",
       "version_major": 2,
       "version_minor": 0
      },
      "text/plain": [
       "Figure(layout=FigureLayout(height='420px'))"
      ]
     },
     "metadata": {},
     "output_type": "display_data"
    }
   ],
   "source": [
    "# 4a. Add a marker layer for each city to the map.\n",
    "fig = gmaps.figure(center=(30.0, 31.0), zoom_level=1.5)\n",
    "marker_layer = gmaps.marker_layer(locations, info_box_content=hotel_info)\n",
    "fig.add_layer(marker_layer)\n",
    "\n",
    "# 4b. Display the figure\n",
    "\n",
    "fig"
   ]
  },
  {
   "cell_type": "code",
   "execution_count": 211,
   "metadata": {},
   "outputs": [
    {
     "data": {
      "text/html": [
       "<div>\n",
       "<style scoped>\n",
       "    .dataframe tbody tr th:only-of-type {\n",
       "        vertical-align: middle;\n",
       "    }\n",
       "\n",
       "    .dataframe tbody tr th {\n",
       "        vertical-align: top;\n",
       "    }\n",
       "\n",
       "    .dataframe thead th {\n",
       "        text-align: right;\n",
       "    }\n",
       "</style>\n",
       "<table border=\"1\" class=\"dataframe\">\n",
       "  <thead>\n",
       "    <tr style=\"text-align: right;\">\n",
       "      <th></th>\n",
       "      <th>City_ID</th>\n",
       "      <th>City_ID.1</th>\n",
       "      <th>City</th>\n",
       "      <th>Country</th>\n",
       "      <th>Lat</th>\n",
       "      <th>Long</th>\n",
       "      <th>Max temp</th>\n",
       "      <th>Humidity</th>\n",
       "      <th>Cloudness</th>\n",
       "      <th>Wind S</th>\n",
       "      <th>Current Description</th>\n",
       "      <th>Hotel Name</th>\n",
       "    </tr>\n",
       "  </thead>\n",
       "  <tbody>\n",
       "    <tr>\n",
       "      <th>356</th>\n",
       "      <td>406</td>\n",
       "      <td>406</td>\n",
       "      <td>Muravlenko</td>\n",
       "      <td>RU</td>\n",
       "      <td>63.7898</td>\n",
       "      <td>74.523</td>\n",
       "      <td>14.23</td>\n",
       "      <td>96</td>\n",
       "      <td>78</td>\n",
       "      <td>10.02</td>\n",
       "      <td>broken clouds</td>\n",
       "      <td>Hostel Rus Muravlenko</td>\n",
       "    </tr>\n",
       "  </tbody>\n",
       "</table>\n",
       "</div>"
      ],
      "text/plain": [
       "     City_ID  City_ID.1        City Country      Lat    Long  Max temp  \\\n",
       "356      406        406  Muravlenko      RU  63.7898  74.523     14.23   \n",
       "\n",
       "     Humidity  Cloudness  Wind S Current Description             Hotel Name  \n",
       "356        96         78   10.02       broken clouds  Hostel Rus Muravlenko  "
      ]
     },
     "execution_count": 211,
     "metadata": {},
     "output_type": "execute_result"
    }
   ],
   "source": [
    "# From the map above pick 4 cities and create a vacation itinerary route to travel between the four cities. \n",
    "# 5. Create DataFrames for each city by filtering the 'vacation_df' using the loc method. \n",
    "# Hint: The starting and ending city should be the same city.\n",
    "\n",
    "vacation_start = vacation_df.loc[vacation_df[\"City\"]==\"Gornopravdinsk\" ]\n",
    "vacation_end = vacation_df.loc[vacation_df[\"City\"]==\"Gornopravdinsk\" ]\n",
    "vacation_stop1 = vacation_df.loc[vacation_df[\"City\"]==\"Muravlenko\"]\n",
    "vacation_stop2 = vacation_df.loc[vacation_df[\"City\"]==\"Tarko-Sale\" ]\n",
    "vacation_stop3 = vacation_df.loc[vacation_df[\"City\"]==\"Nadym\"]\n",
    "vacation_stop1"
   ]
  },
  {
   "cell_type": "code",
   "execution_count": 212,
   "metadata": {},
   "outputs": [
    {
     "data": {
      "text/plain": [
       "(63.7898, 69.9)"
      ]
     },
     "execution_count": 212,
     "metadata": {},
     "output_type": "execute_result"
    }
   ],
   "source": [
    "# 6. Get the latitude-longitude pairs as tuples from each city DataFrame \n",
    "#using the to_numpy function and list indexing.\n",
    "\n",
    "start = vacation_start.to_numpy()\n",
    "start_loc = (start[0][4], start[0][5])\n",
    "end = vacation_end.to_numpy() \n",
    "end_loc =  (end[0][4], start[0][5])\n",
    "stop1 = vacation_stop1.to_numpy()\n",
    "stop1_loc = (stop1[0][4], start[0][5])\n",
    "stop2 = vacation_stop2.to_numpy()\n",
    "stop2_loc = (stop2[0][4], start[0][5])\n",
    "stop3 = vacation_stop3.to_numpy()\n",
    "stop3_loc = (stop3[0][4], start[0][5])\n",
    "\n",
    "stop1_loc"
   ]
  },
  {
   "cell_type": "code",
   "execution_count": 213,
   "metadata": {
    "scrolled": true
   },
   "outputs": [
    {
     "data": {
      "application/vnd.jupyter.widget-view+json": {
       "model_id": "c8d1726b6f6649ab85a00d4b4e0055c0",
       "version_major": 2,
       "version_minor": 0
      },
      "text/plain": [
       "Figure(layout=FigureLayout(height='420px'))"
      ]
     },
     "metadata": {},
     "output_type": "display_data"
    }
   ],
   "source": [
    "# 7. Create a direction layer map using the start and end latitude-longitude pairs,\n",
    "# and stop1, stop2, and stop3 as the waypoints. The travel_mode should be \"DRIVING\", \"BICYCLING\", or \"WALKING\".\n",
    "fig = gmaps.figure()\n",
    "start = (63.7898, 74.523)\n",
    "end = (46.2 ,6.1)\n",
    "stps = [(46.9482713, 7.4514512),(46.4310, 6.9129), (43.73903, 0.00822)]\n",
    "#waypoints = [stop1_loc,stop2_loc]\n",
    "directions = gmaps.directions_layer(start,end, waypoints=stps)\n",
    "fig.add_layer(directions)\n",
    "fig\n"
   ]
  },
  {
   "cell_type": "code",
   "execution_count": 214,
   "metadata": {
    "scrolled": true
   },
   "outputs": [
    {
     "data": {
      "text/html": [
       "<div>\n",
       "<style scoped>\n",
       "    .dataframe tbody tr th:only-of-type {\n",
       "        vertical-align: middle;\n",
       "    }\n",
       "\n",
       "    .dataframe tbody tr th {\n",
       "        vertical-align: top;\n",
       "    }\n",
       "\n",
       "    .dataframe thead th {\n",
       "        text-align: right;\n",
       "    }\n",
       "</style>\n",
       "<table border=\"1\" class=\"dataframe\">\n",
       "  <thead>\n",
       "    <tr style=\"text-align: right;\">\n",
       "      <th></th>\n",
       "      <th>City_ID</th>\n",
       "      <th>City_ID.1</th>\n",
       "      <th>City</th>\n",
       "      <th>Country</th>\n",
       "      <th>Lat</th>\n",
       "      <th>Long</th>\n",
       "      <th>Max temp</th>\n",
       "      <th>Humidity</th>\n",
       "      <th>Cloudness</th>\n",
       "      <th>Wind S</th>\n",
       "      <th>Current Description</th>\n",
       "      <th>Hotel Name</th>\n",
       "    </tr>\n",
       "  </thead>\n",
       "  <tbody>\n",
       "    <tr>\n",
       "      <th>0</th>\n",
       "      <td>373</td>\n",
       "      <td>373</td>\n",
       "      <td>Gornopravdinsk</td>\n",
       "      <td>RU</td>\n",
       "      <td>60.0500</td>\n",
       "      <td>69.9000</td>\n",
       "      <td>19.09</td>\n",
       "      <td>95</td>\n",
       "      <td>40</td>\n",
       "      <td>3.40</td>\n",
       "      <td>scattered clouds</td>\n",
       "      <td>Burovik</td>\n",
       "    </tr>\n",
       "    <tr>\n",
       "      <th>1</th>\n",
       "      <td>373</td>\n",
       "      <td>373</td>\n",
       "      <td>Gornopravdinsk</td>\n",
       "      <td>RU</td>\n",
       "      <td>60.0500</td>\n",
       "      <td>69.9000</td>\n",
       "      <td>19.09</td>\n",
       "      <td>95</td>\n",
       "      <td>40</td>\n",
       "      <td>3.40</td>\n",
       "      <td>scattered clouds</td>\n",
       "      <td>Burovik</td>\n",
       "    </tr>\n",
       "    <tr>\n",
       "      <th>2</th>\n",
       "      <td>406</td>\n",
       "      <td>406</td>\n",
       "      <td>Muravlenko</td>\n",
       "      <td>RU</td>\n",
       "      <td>63.7898</td>\n",
       "      <td>74.5230</td>\n",
       "      <td>14.23</td>\n",
       "      <td>96</td>\n",
       "      <td>78</td>\n",
       "      <td>10.02</td>\n",
       "      <td>broken clouds</td>\n",
       "      <td>Hostel Rus Muravlenko</td>\n",
       "    </tr>\n",
       "    <tr>\n",
       "      <th>3</th>\n",
       "      <td>306</td>\n",
       "      <td>306</td>\n",
       "      <td>Tarko-Sale</td>\n",
       "      <td>RU</td>\n",
       "      <td>64.9225</td>\n",
       "      <td>77.7850</td>\n",
       "      <td>11.03</td>\n",
       "      <td>95</td>\n",
       "      <td>31</td>\n",
       "      <td>11.10</td>\n",
       "      <td>scattered clouds</td>\n",
       "      <td>Yubileynaya</td>\n",
       "    </tr>\n",
       "    <tr>\n",
       "      <th>4</th>\n",
       "      <td>399</td>\n",
       "      <td>399</td>\n",
       "      <td>Nadym</td>\n",
       "      <td>RU</td>\n",
       "      <td>65.5333</td>\n",
       "      <td>72.5167</td>\n",
       "      <td>12.69</td>\n",
       "      <td>89</td>\n",
       "      <td>28</td>\n",
       "      <td>9.82</td>\n",
       "      <td>scattered clouds</td>\n",
       "      <td>Apartment on Zvereva</td>\n",
       "    </tr>\n",
       "  </tbody>\n",
       "</table>\n",
       "</div>"
      ],
      "text/plain": [
       "   City_ID  City_ID.1            City Country      Lat     Long  Max temp  \\\n",
       "0      373        373  Gornopravdinsk      RU  60.0500  69.9000     19.09   \n",
       "1      373        373  Gornopravdinsk      RU  60.0500  69.9000     19.09   \n",
       "2      406        406      Muravlenko      RU  63.7898  74.5230     14.23   \n",
       "3      306        306      Tarko-Sale      RU  64.9225  77.7850     11.03   \n",
       "4      399        399           Nadym      RU  65.5333  72.5167     12.69   \n",
       "\n",
       "   Humidity  Cloudness  Wind S Current Description             Hotel Name  \n",
       "0        95         40    3.40    scattered clouds                Burovik  \n",
       "1        95         40    3.40    scattered clouds                Burovik  \n",
       "2        96         78   10.02       broken clouds  Hostel Rus Muravlenko  \n",
       "3        95         31   11.10    scattered clouds            Yubileynaya  \n",
       "4        89         28    9.82    scattered clouds   Apartment on Zvereva  "
      ]
     },
     "execution_count": 214,
     "metadata": {},
     "output_type": "execute_result"
    }
   ],
   "source": [
    "# 8. To create a marker layer map between the four cities.\n",
    "#  Combine the four city DataFrames into one DataFrame using the concat() function.\n",
    "itinerary_df = pd.concat([vacation_start,vacation_end, vacation_stop1,vacation_stop2,vacation_stop3],ignore_index=True)\n",
    "itinerary_df"
   ]
  },
  {
   "cell_type": "code",
   "execution_count": 217,
   "metadata": {},
   "outputs": [],
   "source": [
    "# 9 Using the template add city name, the country code, the weather description and maximum temperature for the city. \n",
    "info_box_template = \"\"\"\n",
    "<dl>\n",
    "<dt>City Name</dt><dd>{City}</dd>\n",
    "<dt>Country</dt><dd>{Country}</dd>\n",
    "<dt>Max Temp</dt><dd>{Max temp} °F</dd>\n",
    "</dl>\n",
    "\"\"\"\n",
    "\n",
    "# 10a Get the data from each row and add it to the formatting template and store the data in a list.\n",
    "hotel_info = [info_box_template.format(**row) for index, row in itinerary_df.iterrows()]\n",
    "\n",
    "# 10b. Get the latitude and longitude from each row and store in a new DataFrame.\n",
    "locations = itinerary_df[[\"Lat\", \"Long\"]]"
   ]
  },
  {
   "cell_type": "code",
   "execution_count": 220,
   "metadata": {},
   "outputs": [
    {
     "data": {
      "application/vnd.jupyter.widget-view+json": {
       "model_id": "c55510cbe2e34693a702a88a68d573ba",
       "version_major": 2,
       "version_minor": 0
      },
      "text/plain": [
       "Figure(layout=FigureLayout(height='420px'))"
      ]
     },
     "metadata": {},
     "output_type": "display_data"
    }
   ],
   "source": [
    "# 11a. Add a marker layer for each city to the map.\n",
    "fig = gmaps.figure(center=(30.0, 31.0), zoom_level=4)\n",
    "marker_layer_ = gmaps.marker_layer(locations, info_box_content=hotel_info)\n",
    "fig.add_layer(marker_layer)\n",
    "# 11b. Display the figure\n",
    "fig"
   ]
  },
  {
   "cell_type": "code",
   "execution_count": null,
   "metadata": {},
   "outputs": [],
   "source": []
  }
 ],
 "metadata": {
  "kernelspec": {
   "display_name": "Python 3",
   "language": "python",
   "name": "python3"
  },
  "language_info": {
   "codemirror_mode": {
    "name": "ipython",
    "version": 3
   },
   "file_extension": ".py",
   "mimetype": "text/x-python",
   "name": "python",
   "nbconvert_exporter": "python",
   "pygments_lexer": "ipython3",
   "version": "3.7.10"
  },
  "latex_envs": {
   "LaTeX_envs_menu_present": true,
   "autoclose": false,
   "autocomplete": true,
   "bibliofile": "biblio.bib",
   "cite_by": "apalike",
   "current_citInitial": 1,
   "eqLabelWithNumbers": true,
   "eqNumInitial": 1,
   "hotkeys": {
    "equation": "Ctrl-E",
    "itemize": "Ctrl-I"
   },
   "labels_anchors": false,
   "latex_user_defs": false,
   "report_style_numbering": false,
   "user_envs_cfg": false
  }
 },
 "nbformat": 4,
 "nbformat_minor": 2
}
